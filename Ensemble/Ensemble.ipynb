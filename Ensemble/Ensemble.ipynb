{
 "cells": [
  {
   "cell_type": "code",
   "execution_count": 89,
   "id": "f62c94a8-19a9-4ede-b30e-10d30cdc6ffb",
   "metadata": {},
   "outputs": [],
   "source": [
    "import pandas as pd\n",
    "import numpy as np"
   ]
  },
  {
   "cell_type": "code",
   "execution_count": 125,
   "id": "9e5d1161-8f04-4431-a3a2-f9941f101f1d",
   "metadata": {},
   "outputs": [],
   "source": [
    "df1 = pd.read_csv('model/lstmattn_0.8116.csv')\n",
    "df2 = pd.read_csv('model/tabnet_0.8012.csv')\n",
    "df3 = pd.read_csv('model/ugcn_0.7846.csv')\n",
    "df4 = pd.read_csv('model/lgbm_0.7886.csv')\n",
    "df5 = pd.read_csv('model/lstmattn_0.8101.csv')\n",
    "df6 = pd.read_csv('model/lstmattn_0.8077.csv')\n",
    "df7 = pd.read_csv('model/tabnet_0.7979.csv')\n",
    "df8 = pd.read_csv('model/lstmattn_0.8028.csv')\n",
    "df9 = pd.read_csv('model/lstmattn_0.8019.csv')\n",
    "df10 = pd.read_csv('model/lstmattn_0.8002.csv')\n",
    "df11 = pd.read_csv('model/tabnet_0.7996.csv')\n",
    "# df_1 = pd.read_csv('model/lstmattn_0.8028.csv')"
   ]
  },
  {
   "cell_type": "code",
   "execution_count": 126,
   "id": "0825e7dc-9827-41cb-8bc0-1e6e3797c5f5",
   "metadata": {},
   "outputs": [],
   "source": [
    "for k,df in enumerate([df1,df2,df3,df4,df5,df6,df7,df8,df9,df10,df11]):\n",
    "    df['rank']=df['prediction'].rank(axis=0, method='average',na_option='keep')"
   ]
  },
  {
   "cell_type": "code",
   "execution_count": 127,
   "id": "07818006-7e9d-45d8-8e5e-f118e0227830",
   "metadata": {},
   "outputs": [
    {
     "name": "stderr",
     "output_type": "stream",
     "text": [
      "/tmp/ipykernel_14171/1663464324.py:12: RuntimeWarning: invalid value encountered in double_scalars\n",
      "  tmp2=(avg*num-ma-mi)/(num-2)\n"
     ]
    }
   ],
   "source": [
    "ans = []\n",
    "num= 2\n",
    "for i in range(len(df1)):\n",
    "    c=0\n",
    "    tmp = []\n",
    "    for k,df in enumerate([df1,df2]):\n",
    "        rank = df['rank'][i]\n",
    "        tmp.append(rank)\n",
    "    avg = np.mean(tmp)\n",
    "    ma = np.max(tmp)\n",
    "    mi = np.min(tmp)\n",
    "    tmp2=(avg*num-ma-mi)/(num-2)\n",
    "    \n",
    "    tmp2=(avg*num)/(num)\n",
    "    # if ma-avg>avg-mi:\n",
    "    #     tmp2=(avg*num-ma)/(num-1)\n",
    "    # else:\n",
    "    #     tmp2=(avg*num-mi)/(num-1)\n",
    "    ans.append(tmp2)"
   ]
  },
  {
   "cell_type": "code",
   "execution_count": 128,
   "id": "364b5cc1-dcd3-4248-bbac-4f23d22f6fce",
   "metadata": {},
   "outputs": [
    {
     "name": "stdout",
     "output_type": "stream",
     "text": [
      "742.0\n",
      "2.0\n"
     ]
    }
   ],
   "source": [
    "ma=np.max(ans)\n",
    "mi=np.min(ans)\n",
    "print(ma)\n",
    "print(mi)\n",
    "for i in range(len(ans)):\n",
    "    ans[i]=(ans[i]-mi)/(ma-mi)"
   ]
  },
  {
   "cell_type": "code",
   "execution_count": 129,
   "id": "1eecad47-e7a2-403e-b081-345e7844a2ae",
   "metadata": {},
   "outputs": [],
   "source": [
    "sub = pd.read_csv('../../../input/data/sample_submission.csv')\n",
    "sub['prediction'] = ans\n",
    "sub.to_csv('ensemble/ensemble9.csv', index=False)"
   ]
  },
  {
   "cell_type": "code",
   "execution_count": 106,
   "id": "2970369f-9292-4399-b9c6-76710ef6d218",
   "metadata": {},
   "outputs": [
    {
     "name": "stdout",
     "output_type": "stream",
     "text": [
      "741.4444444444445\n",
      "3.888888888888889\n"
     ]
    }
   ],
   "source": [
    "print(ma)\n",
    "print(mi)"
   ]
  },
  {
   "cell_type": "code",
   "execution_count": 80,
   "id": "7efacd9c-2653-4918-a351-030f7ad15723",
   "metadata": {},
   "outputs": [
    {
     "data": {
      "text/plain": [
       "[0.7254283137962129,\n",
       " 0.7633002705139765,\n",
       " 0.22587917042380523,\n",
       " 0.7899008115419296,\n",
       " 0.324165915238954,\n",
       " 0.9026149684400361,\n",
       " 0.24211000901713253,\n",
       " 0.1641118124436429,\n",
       " 0.15193868349864742,\n",
       " 0.975653742110009,\n",
       " 0.3237150586113616,\n",
       " 0.2660054102795311,\n",
       " 0.9797114517583408,\n",
       " 0.363390441839495,\n",
       " 0.6690712353471595,\n",
       " 0.9869251577998197,\n",
       " 0.13886384129846707,\n",
       " 0.9440937781785391,\n",
       " 0.912082957619477,\n",
       " 0.09242560865644724]"
      ]
     },
     "execution_count": 80,
     "metadata": {},
     "output_type": "execute_result"
    }
   ],
   "source": [
    "ans[0:20]"
   ]
  },
  {
   "cell_type": "code",
   "execution_count": null,
   "id": "925c8528-eb2a-4601-a758-c4cc7a5b7c6f",
   "metadata": {},
   "outputs": [],
   "source": []
  }
 ],
 "metadata": {
  "kernelspec": {
   "display_name": "Python 3 (ipykernel)",
   "language": "python",
   "name": "python3"
  },
  "language_info": {
   "codemirror_mode": {
    "name": "ipython",
    "version": 3
   },
   "file_extension": ".py",
   "mimetype": "text/x-python",
   "name": "python",
   "nbconvert_exporter": "python",
   "pygments_lexer": "ipython3",
   "version": "3.8.5"
  }
 },
 "nbformat": 4,
 "nbformat_minor": 5
}
